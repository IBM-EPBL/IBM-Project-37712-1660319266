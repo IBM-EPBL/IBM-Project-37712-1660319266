{
  "metadata": {
    "language_info": {
      "codemirror_mode": {
        "name": "python",
        "version": 3
      },
      "file_extension": ".py",
      "mimetype": "text/x-python",
      "name": "python",
      "nbconvert_exporter": "python",
      "pygments_lexer": "ipython3",
      "version": "3.8"
    },
    "kernelspec": {
      "name": "python",
      "display_name": "Python (Pyodide)",
      "language": "python"
    }
  },
  "nbformat_minor": 4,
  "nbformat": 4,
  "cells": [
    {
      "cell_type": "code",
      "source": "#shilf train predictions for plotting\nlook_back = 10\ntrainPredictPlot = np.empty_like(data_oil)\ntrainPredictPlot[:, :] = np.nan\ntrainPredictPlot[look_back:len(train_predict)+look_back, :] = train_predict\n#shift test predictions for plotting\ntestPredictPlot = np.empty_like(data_oil)\ntestPredictPlot[:, :] = np.nan\ntestPredictPlot[len(train_predict)+(look_back*2)+1:len(data_oil)-1, :] = test_predict\n\n#plot baseline and predictions\nplt.plot(scalar.inverse_transform(data_oil))\nplt.plot(trainPredictPlot)\nplt.plot(testPredictPlot)\nplt.show()",
      "metadata": {},
      "execution_count": null,
      "outputs": []
    }
  ]
}